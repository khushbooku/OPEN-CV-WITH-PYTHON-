{
 "cells": [
  {
   "cell_type": "code",
   "execution_count": null,
   "metadata": {},
   "outputs": [],
   "source": [
    "# Read Image\n",
    " \n",
    "img_path_road = r\"C:\\Users\\kashz\\AI Life\\AI Projects - IAIP, PTs (Web + Channel)\\02 OpenCV\\000 opencv tutorial\\data\\images\\road\\road1.jpg\"\n",
    "img_path_girl_eye = r\"C:\\Users\\kashz\\AI Life\\AI Projects - IAIP, PTs (Web + Channel)\\02 OpenCV\\000 opencv tutorial\\data\\images\\girl-eye.jpg\"\n",
    "img_path_iaip = r\"C:\\Users\\kashz\\AI Life\\AI Projects - IAIP, PTs (Web + Channel)\\02 OpenCV\\000 opencv tutorial\\data\\indian ai production name.png\"\n",
    " \n",
    "img_road = cv2.imread(img_path_road, 0)\n",
    "img_iaip = cv2.imread(img_path_iaip, 0)\n",
    "img_girl_eye = cv2.imread(img_path_girl_eye, 0)\n",
    " \n",
    "img_road = cv2.resize(img_road, (600, 400))\n",
    "img_girl_eye = cv2.resize(img_girl_eye, (600,400))\n",
    " \n",
    "cv2.imshow(\"Image road\", img_road)\n",
    "cv2.imshow(\"Image iaip\", img_iaip)\n",
    "cv2.imshow(\"Image GIrl Eye\", img_girl_eye)\n",
    " \n",
    "cv2.waitKey(0)\n",
    "cv2.destroyAllWindows()"
   ]
  }
 ],
 "metadata": {
  "kernelspec": {
   "display_name": "Python 3",
   "language": "python",
   "name": "python3"
  },
  "language_info": {
   "codemirror_mode": {
    "name": "ipython",
    "version": 3
   },
   "file_extension": ".py",
   "mimetype": "text/x-python",
   "name": "python",
   "nbconvert_exporter": "python",
   "pygments_lexer": "ipython3",
   "version": "3.8.5"
  }
 },
 "nbformat": 4,
 "nbformat_minor": 4
}
