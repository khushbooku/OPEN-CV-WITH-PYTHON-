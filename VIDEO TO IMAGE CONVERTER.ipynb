{
 "cells": [
  {
   "cell_type": "code",
   "execution_count": 7,
   "metadata": {},
   "outputs": [],
   "source": [
    "import cv2\n",
    "import numpy as np\n",
    "import os\n",
    " \n",
    "video_path = r\"C:\\Users\\stc\\Documents\\iFun Screen Recorder\\Outputs\\rama.mp4\"\n",
    " \n",
    "os.mkdir(\"video_to_images8\") # create directory\n",
    " \n",
    "cap = cv2.VideoCapture(video_path) # capture video\n",
    " \n",
    "img_count = 1\n",
    "while cap.isOpened():\n",
    "    ret, frame = cap.read() # read video frame\n",
    "     \n",
    "    if not ret:\n",
    "        print(\"Unable to read frame\")\n",
    "        break\n",
    "     \n",
    "    is_img_write = cv2.imwrite(f\"\\video_to_images8\\image{img_count}.jpeg\", frame)\n",
    "     \n",
    "    if is_img_write:\n",
    "        print(f'image save at video_to_images8\\image{img_count}.jpeg')\n",
    "         \n",
    "    cv2.imshow(\"video\", frame )\n",
    "     \n",
    "    cv2.waitKey(25) & 0xff == ord('q')\n",
    "    img_count += 1\n",
    "     \n",
    "cap.release()\n",
    "cv2.destroyAllWindows()"
   ]
  },
  {
   "cell_type": "code",
   "execution_count": 12,
   "metadata": {},
   "outputs": [],
   "source": []
  },
  {
   "cell_type": "code",
   "execution_count": null,
   "metadata": {},
   "outputs": [],
   "source": []
  },
  {
   "cell_type": "code",
   "execution_count": null,
   "metadata": {},
   "outputs": [],
   "source": []
  }
 ],
 "metadata": {
  "kernelspec": {
   "display_name": "Python 3",
   "language": "python",
   "name": "python3"
  },
  "language_info": {
   "codemirror_mode": {
    "name": "ipython",
    "version": 3
   },
   "file_extension": ".py",
   "mimetype": "text/x-python",
   "name": "python",
   "nbconvert_exporter": "python",
   "pygments_lexer": "ipython3",
   "version": "3.8.5"
  }
 },
 "nbformat": 4,
 "nbformat_minor": 4
}
